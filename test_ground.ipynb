{
 "cells": [
  {
   "cell_type": "code",
   "execution_count": 1,
   "metadata": {},
   "outputs": [],
   "source": [
    "# 给定的校准结果\n",
    "K = [\n",
    "    [619.5652814977908, 0.0, 969.5388962179674],\n",
    "    [0.0, 618.9377691081634, 542.8127134871911],\n",
    "    [0.0, 0.0, 1.0]\n",
    "]\n",
    "D = [\n",
    "    [-0.016798242339239152],\n",
    "    [-0.1640044269286942],\n",
    "    [0.23083367730356597],\n",
    "    [-0.06840244901906237]\n",
    "]\n",
    "\n",
    "# 计算焦距\n",
    "focal_length = (K[0][0] + K[1][1]) / 2\n",
    "\n",
    "# 主点坐标\n",
    "principal_pt_x = K[0][2]\n",
    "principal_pt_y = K[1][2]\n",
    "\n",
    "# 径向畸变，这里假设只需要前四个参数\n",
    "radial_distortion_1 = D[0][0]\n",
    "radial_distortion_2 = D[1][0]\n",
    "radial_distortion_3 = D[2][0]\n",
    "radial_distortion_4 = D[3][0]\n",
    "\n",
    "# 长宽比\n",
    "aspect_ratio = K[1][1] / K[0][0]\n",
    "\n",
    "# 偏斜\n",
    "skew = K[0][1]  # 在这个例子中，偏斜为0\n",
    "\n",
    "# 构建内参字典\n",
    "intrinsics = {\n",
    "    \"aspect_ratio\": aspect_ratio,\n",
    "    \"focal_length\": focal_length,\n",
    "    \"principal_pt_x\": principal_pt_x,\n",
    "    \"principal_pt_y\": principal_pt_y,\n",
    "    \"radial_distortion_1\": radial_distortion_1,\n",
    "    \"radial_distortion_2\": radial_distortion_2,\n",
    "    \"radial_distortion_3\": radial_distortion_3,\n",
    "    \"radial_distortion_4\": radial_distortion_4,\n",
    "    \"skew\": skew\n",
    "}"
   ]
  },
  {
   "cell_type": "code",
   "execution_count": 2,
   "metadata": {},
   "outputs": [
    {
     "data": {
      "text/plain": [
       "{'aspect_ratio': 0.9989871730899601,\n",
       " 'focal_length': 619.2515253029771,\n",
       " 'principal_pt_x': 969.5388962179674,\n",
       " 'principal_pt_y': 542.8127134871911,\n",
       " 'radial_distortion_1': -0.016798242339239152,\n",
       " 'radial_distortion_2': -0.1640044269286942,\n",
       " 'radial_distortion_3': 0.23083367730356597,\n",
       " 'radial_distortion_4': -0.06840244901906237,\n",
       " 'skew': 0.0}"
      ]
     },
     "execution_count": 2,
     "metadata": {},
     "output_type": "execute_result"
    }
   ],
   "source": [
    "intrinsics"
   ]
  }
 ],
 "metadata": {
  "kernelspec": {
   "display_name": "Python 3",
   "language": "python",
   "name": "python3"
  },
  "language_info": {
   "codemirror_mode": {
    "name": "ipython",
    "version": 3
   },
   "file_extension": ".py",
   "mimetype": "text/x-python",
   "name": "python",
   "nbconvert_exporter": "python",
   "pygments_lexer": "ipython3",
   "version": "3.12.4"
  }
 },
 "nbformat": 4,
 "nbformat_minor": 2
}
